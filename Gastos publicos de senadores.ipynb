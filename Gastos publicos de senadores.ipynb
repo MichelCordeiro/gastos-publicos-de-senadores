{
 "cells": [
  {
   "cell_type": "markdown",
   "metadata": {},
   "source": [
    "<img src='./imgs/img.jpg' vspace='15px' hspace='15px'/>\n",
    "<h1><center>GASTOS DE SENADORES BRASILEIROS</center></h1>\n",
    "<h2>Uma breve conjectura</h2>\n",
    "\n",
    "Que a corrupção está entranhada em nosso modelo de governo, isso não é novidade para ninguém. Há quem diga que ela começa no povo - de onde vem os candidatos -, quando você comete injustiças angariando seu próprio bem, como sonegar impostos; não pagar por serviços como água e luz; e utilizar camiseta de estudantes para não pagar a passagem. Todavia, há quem diga que o homem começa a se corromper quando lhe é dado poder. Quando lhe é dado a possibilidade de realizar escolhas que influenciarão na vida de terceiros.\n",
    "\n",
    "Independente da forma exata com que nossos representantes tem se corrompido, é um direito do cidadão de bem monitorar e auditar o que é feito com o dinheiro utilizado por nossos políticos. Graças aos <a href='https://www12.senado.leg.br/transparencia/dados-abertos/dados-abertos-ceaps'>dados abertos do CEAPS</a> e outras ações da <a href='http://www.leidatransparencia.cnm.org.br/'>Lei da Transparência</a>, é possível a qualquer um avaliar e verificar o que eles tem feito."
   ]
  },
  {
   "cell_type": "markdown",
   "metadata": {},
   "source": [
    "Através deste projeto, quero gerar <i>Insights</i> a partir dos dados disponíveis no portal do Senado Federal, onde poderemos verificar informações a cerca dos gastos públicos realizados por senadores no período de 01/01/2016 a 05/10/2016. Boa leitura."
   ]
  },
  {
   "cell_type": "markdown",
   "metadata": {},
   "source": [
    "<blockquote><i> “De tanto ver triunfar as nulidades; de tanto ver prosperar a desonra, de tanto ver crescer a injustiça. De tanto ver agigantarem-se os poderes nas mãos dos maus, o homem chega a desanimar-se da virtude, a rir-se da honra e a ter vergonha de ser honesto.”</i> - Ruy Barbosa</blockquote>"
   ]
  },
  {
   "cell_type": "markdown",
   "metadata": {},
   "source": [
    "<h2>Apresentando a informação</h2>\n",
    "\n",
    "Na seção \"Transparência\" no<a href='https://www12.senado.leg.br/transparencia/dados-abertos/dados-abertos-ceaps'> site do Senado Federal</a>, é possível localizar os dados da CEAPS - Cota para o Exercício da Atividade Parlamentar dos Senadores -, que, nada mais é que um valor provisionado para cada senador poder usufruir no exercício de sua função. O valor da cota depende da unidade da federação que o deputado representa. Essa variação ocorre por causa das passagens aéreas e está relacionada ao valor do trecho entre Brasília e o Estado que o deputado representa. Tal valor é discutido no <a href='http://www2.camara.leg.br/legin/int/atomes/2009/atodamesa-43-21-maio-2009-588364-norma-cd-mesa.html'>Ato da Mesa nº 43 de 2009</a>.\n",
    "\n",
    "Você pode consultar tais valores <a href='./data/CEAPS.pdf'>clicando neste link</a> (data de referência: 02/11/2016).\n",
    "\n",
    "Neste projeto, estarei utilizando o arquivo do CEAPS de 2016, baixado em 05/10/2016. Você pode realizar o download deste arquivo <a href='./data/2016.csv'>clicando aqui</a>."
   ]
  },
  {
   "cell_type": "markdown",
   "metadata": {},
   "source": [
    "<h2>Disclaimer</h2>\n",
    "\n",
    "O <i>storytelling</i> deste estudo foi baseada na proposta de permitir a qualquer pessoa consiguir compreender os dados exibidos e meu <i>modus operandi</i>. Caso você já tenha conhecimento técnico em Python e Data Science, desconsidere comentários que possam ser fúteis, devido você já possuir o conhecimento."
   ]
  },
  {
   "cell_type": "markdown",
   "metadata": {},
   "source": [
    "<a name='TOPO'></a>\n",
    "<h1>Índice</h1>\n",
    "<ol>\n",
    "<li><a href='#DATACLEANING'>Limpeza de Dados (Data Cleaning)</a></li>\n",
    "<li><a href='#DATAANALYSIS'>Análise dos Dados (Data Analysis)</a></li>\n",
    "<li><a href='#DATAVISUALIZATION'>Visualização dos Dados (Data Visualization)</li>\n",
    "<li><a href='#CONCLUSAO'>Conclusão</li>\n",
    "</ol>"
   ]
  },
  {
   "cell_type": "markdown",
   "metadata": {},
   "source": [
    "<a name='DATACLEANING'></a>\n",
    "<h1>Limpeza de Dados (Data Cleaning)</h1>\n",
    "\n",
    "Que a planilha contém muitos dados, isso é fato. Para podermos ter um melhor aproveitamento das informações disponibilizadas, precisamos realizar a conversão de alguns dados que foram importados incorretamente para o <i>script</i>. Abaixo, você poderá visualizar o código que escrevi, assim como a explicação de todo o processo."
   ]
  },
  {
   "cell_type": "markdown",
   "metadata": {},
   "source": [
    "<h2>Importando bibliotecas</h2>"
   ]
  },
  {
   "cell_type": "code",
   "execution_count": 43,
   "metadata": {
    "collapsed": false
   },
   "outputs": [],
   "source": [
    "%matplotlib inline\n",
    "import pandas as pd # Para criarmos DataFrames\n",
    "import numpy as np # Realizar alguns calculos matemáticos\n",
    "import matplotlib.pyplot as plt # Para criação de gráficos\n",
    "import seaborn as sns # Design de gráficos mais atraentes"
   ]
  },
  {
   "cell_type": "code",
   "execution_count": 44,
   "metadata": {
    "collapsed": false,
    "scrolled": false
   },
   "outputs": [],
   "source": [
    "# Vamos começar a leitura do nosso arquivo\n",
    "gastos2016 = pd.read_csv('./data/2016.csv',encoding='ISO-8859-1')"
   ]
  },
  {
   "cell_type": "markdown",
   "metadata": {},
   "source": [
    "Para melhor visualização dos dados que estão contidos na planilha, abaixo você poderá conferir como estão dispostas tais informações:"
   ]
  },
  {
   "cell_type": "code",
   "execution_count": 45,
   "metadata": {
    "collapsed": false
   },
   "outputs": [
    {
     "data": {
      "text/html": [
       "<div>\n",
       "<table border=\"1\" class=\"dataframe\">\n",
       "  <thead>\n",
       "    <tr style=\"text-align: right;\">\n",
       "      <th></th>\n",
       "      <th>ANO</th>\n",
       "      <th>MES</th>\n",
       "      <th>SENADOR</th>\n",
       "      <th>TIPO_DESPESA</th>\n",
       "      <th>CNPJ_CPF</th>\n",
       "      <th>FORNECEDOR</th>\n",
       "      <th>DOCUMENTO</th>\n",
       "      <th>DATA</th>\n",
       "      <th>DETALHAMENTO</th>\n",
       "      <th>VALOR_REEMBOLSADO</th>\n",
       "    </tr>\n",
       "  </thead>\n",
       "  <tbody>\n",
       "    <tr>\n",
       "      <th>0</th>\n",
       "      <td>2016.0</td>\n",
       "      <td>1.0</td>\n",
       "      <td>ACIR GURGACZ</td>\n",
       "      <td>Aluguel de imóveis para escritório político, c...</td>\n",
       "      <td>05.914.650/0001-66</td>\n",
       "      <td>ELETROBRÁS DISTRIBUIÇÃO RONDÔNIA</td>\n",
       "      <td>11328</td>\n",
       "      <td>13/01/2016</td>\n",
       "      <td>Despesa com pagamento de energia elétrica para...</td>\n",
       "      <td>73,6</td>\n",
       "    </tr>\n",
       "    <tr>\n",
       "      <th>1</th>\n",
       "      <td>2016.0</td>\n",
       "      <td>1.0</td>\n",
       "      <td>ACIR GURGACZ</td>\n",
       "      <td>Aluguel de imóveis para escritório político, c...</td>\n",
       "      <td>05.914.650/0001-66</td>\n",
       "      <td>ELETROBRÁS DISTRIBUIÇÃO RONDÔNIA</td>\n",
       "      <td>11327</td>\n",
       "      <td>18/01/2016</td>\n",
       "      <td>Pagamento de energia elétrica para o escritóri...</td>\n",
       "      <td>206,84</td>\n",
       "    </tr>\n",
       "    <tr>\n",
       "      <th>2</th>\n",
       "      <td>2016.0</td>\n",
       "      <td>1.0</td>\n",
       "      <td>ACIR GURGACZ</td>\n",
       "      <td>Aluguel de imóveis para escritório político, c...</td>\n",
       "      <td>004.948.028-63</td>\n",
       "      <td>GILBERTO PISELO DO NASCIMENTO</td>\n",
       "      <td>001/16</td>\n",
       "      <td>04/01/2016</td>\n",
       "      <td>Despesa com pagamento de aluguel, utilizado pa...</td>\n",
       "      <td>6000</td>\n",
       "    </tr>\n",
       "  </tbody>\n",
       "</table>\n",
       "</div>"
      ],
      "text/plain": [
       "      ANO  MES       SENADOR  \\\n",
       "0  2016.0  1.0  ACIR GURGACZ   \n",
       "1  2016.0  1.0  ACIR GURGACZ   \n",
       "2  2016.0  1.0  ACIR GURGACZ   \n",
       "\n",
       "                                        TIPO_DESPESA            CNPJ_CPF  \\\n",
       "0  Aluguel de imóveis para escritório político, c...  05.914.650/0001-66   \n",
       "1  Aluguel de imóveis para escritório político, c...  05.914.650/0001-66   \n",
       "2  Aluguel de imóveis para escritório político, c...      004.948.028-63   \n",
       "\n",
       "                         FORNECEDOR DOCUMENTO        DATA  \\\n",
       "0  ELETROBRÁS DISTRIBUIÇÃO RONDÔNIA     11328  13/01/2016   \n",
       "1  ELETROBRÁS DISTRIBUIÇÃO RONDÔNIA     11327  18/01/2016   \n",
       "2     GILBERTO PISELO DO NASCIMENTO    001/16  04/01/2016   \n",
       "\n",
       "                                        DETALHAMENTO VALOR_REEMBOLSADO  \n",
       "0  Despesa com pagamento de energia elétrica para...              73,6  \n",
       "1  Pagamento de energia elétrica para o escritóri...            206,84  \n",
       "2  Despesa com pagamento de aluguel, utilizado pa...              6000  "
      ]
     },
     "execution_count": 45,
     "metadata": {},
     "output_type": "execute_result"
    }
   ],
   "source": [
    "gastos2016.head(3) # Três primeiras linhas do arquivo"
   ]
  },
  {
   "cell_type": "markdown",
   "metadata": {},
   "source": [
    "Em alguns campos nesta planilha há dados inconsistentes que podem atrapalhar nossa análise, como o nome do senador não estar preenchido, ou o valor reembolsado não estar bem declarado. Vamos retirar esses valores de nosso DataFrame."
   ]
  },
  {
   "cell_type": "code",
   "execution_count": 46,
   "metadata": {
    "collapsed": false
   },
   "outputs": [],
   "source": [
    "gastos2016 = gastos2016.dropna(subset=['VALOR_REEMBOLSADO'], axis=0) # Excluindo linhas que não possuem valor reembolsado\n",
    "gastos2016 = gastos2016.dropna(subset=['SENADOR'], axis=0) # Excluindo linhas que não possuem o nome do senador"
   ]
  },
  {
   "cell_type": "markdown",
   "metadata": {},
   "source": [
    "Perfeito, já não estão presentes em nosso DataFrame campos com valores inválidos. O próximo passo é analisar como os dados lançados no DataFrame estão sendo tratados pela biblioteca Pandas. Vamos ver?"
   ]
  },
  {
   "cell_type": "code",
   "execution_count": 47,
   "metadata": {
    "collapsed": false
   },
   "outputs": [
    {
     "data": {
      "text/plain": [
       "ANO                  float64\n",
       "MES                  float64\n",
       "SENADOR               object\n",
       "TIPO_DESPESA          object\n",
       "CNPJ_CPF              object\n",
       "FORNECEDOR            object\n",
       "DOCUMENTO             object\n",
       "DATA                  object\n",
       "DETALHAMENTO          object\n",
       "VALOR_REEMBOLSADO     object\n",
       "dtype: object"
      ]
     },
     "execution_count": 47,
     "metadata": {},
     "output_type": "execute_result"
    }
   ],
   "source": [
    "gastos2016.dtypes"
   ]
  },
  {
   "cell_type": "markdown",
   "metadata": {},
   "source": [
    "Opa! Temos um problema aqui. Praticamente todos os dados em nosso dataset estão sendo tratados como se objetos do Python, ou simplesmente <i>object</i>, que trata os valores como se fossem <i>strings</i>, ou linhas de texto. Isso se deve ao arquivo disponibilizado pelo senado não estar codificado em UTF, mas sim em ISO.\n",
    "\n",
    "Bem, uma linguagem de programação não consegue realizar cálculos matemáticos em textos - e acredito que nós, humanos, também não. Sendo assim, terei que converter algumas colunas para podermos trabalhar nela. Vamos lá!"
   ]
  },
  {
   "cell_type": "code",
   "execution_count": 48,
   "metadata": {
    "collapsed": false,
    "scrolled": true
   },
   "outputs": [],
   "source": [
    "#Primeiro, vou converter a coluna 'VALOR_REEMBOLSADO' de string para float. Devido os valores serem separados por uma vírgula,\n",
    "#eu terei que substituir esse caracter por ponto para realizar cálculos matemáticos.\n",
    "gastos2016['VALOR_REEMBOLSADO'] = gastos2016['VALOR_REEMBOLSADO'].str.replace(',','.').astype('float')"
   ]
  },
  {
   "cell_type": "markdown",
   "metadata": {},
   "source": [
    "Vamos ver como ficou a tabela agora?"
   ]
  },
  {
   "cell_type": "code",
   "execution_count": 49,
   "metadata": {
    "collapsed": false
   },
   "outputs": [
    {
     "data": {
      "text/plain": [
       "ANO                  float64\n",
       "MES                  float64\n",
       "SENADOR               object\n",
       "TIPO_DESPESA          object\n",
       "CNPJ_CPF              object\n",
       "FORNECEDOR            object\n",
       "DOCUMENTO             object\n",
       "DATA                  object\n",
       "DETALHAMENTO          object\n",
       "VALOR_REEMBOLSADO    float64\n",
       "dtype: object"
      ]
     },
     "execution_count": 49,
     "metadata": {},
     "output_type": "execute_result"
    }
   ],
   "source": [
    "gastos2016.dtypes"
   ]
  },
  {
   "cell_type": "markdown",
   "metadata": {},
   "source": [
    "Ótimo! Perceba que o campo <b>\"VALOR_REEMBOLSADO\"</b> foi convertido de <i>object</i> para <i>float</i>. Isso nos permitirá realizar cálculos, já que agora Python considera as informações ali como números.\n",
    "\n",
    "Abaixo, vamos visualizar as informações de todas as colunas númericas para vermos se há algum valor indevido. O comando <i>describe</i> nos retorna informações como média, valor mínimo e máximo, quartis, dentre outras."
   ]
  },
  {
   "cell_type": "code",
   "execution_count": 50,
   "metadata": {
    "collapsed": false
   },
   "outputs": [
    {
     "data": {
      "text/html": [
       "<div>\n",
       "<table border=\"1\" class=\"dataframe\">\n",
       "  <thead>\n",
       "    <tr style=\"text-align: right;\">\n",
       "      <th></th>\n",
       "      <th>ANO</th>\n",
       "      <th>MES</th>\n",
       "      <th>VALOR_REEMBOLSADO</th>\n",
       "    </tr>\n",
       "  </thead>\n",
       "  <tbody>\n",
       "    <tr>\n",
       "      <th>count</th>\n",
       "      <td>20445.0</td>\n",
       "      <td>20445.000000</td>\n",
       "      <td>20445.000000</td>\n",
       "    </tr>\n",
       "    <tr>\n",
       "      <th>mean</th>\n",
       "      <td>2016.0</td>\n",
       "      <td>5.170262</td>\n",
       "      <td>894.152074</td>\n",
       "    </tr>\n",
       "    <tr>\n",
       "      <th>std</th>\n",
       "      <td>0.0</td>\n",
       "      <td>2.505602</td>\n",
       "      <td>1873.505813</td>\n",
       "    </tr>\n",
       "    <tr>\n",
       "      <th>min</th>\n",
       "      <td>2016.0</td>\n",
       "      <td>1.000000</td>\n",
       "      <td>0.010000</td>\n",
       "    </tr>\n",
       "    <tr>\n",
       "      <th>25%</th>\n",
       "      <td>2016.0</td>\n",
       "      <td>3.000000</td>\n",
       "      <td>120.230000</td>\n",
       "    </tr>\n",
       "    <tr>\n",
       "      <th>50%</th>\n",
       "      <td>2016.0</td>\n",
       "      <td>5.000000</td>\n",
       "      <td>314.710000</td>\n",
       "    </tr>\n",
       "    <tr>\n",
       "      <th>75%</th>\n",
       "      <td>2016.0</td>\n",
       "      <td>7.000000</td>\n",
       "      <td>901.390000</td>\n",
       "    </tr>\n",
       "    <tr>\n",
       "      <th>max</th>\n",
       "      <td>2016.0</td>\n",
       "      <td>10.000000</td>\n",
       "      <td>44500.000000</td>\n",
       "    </tr>\n",
       "  </tbody>\n",
       "</table>\n",
       "</div>"
      ],
      "text/plain": [
       "           ANO           MES  VALOR_REEMBOLSADO\n",
       "count  20445.0  20445.000000       20445.000000\n",
       "mean    2016.0      5.170262         894.152074\n",
       "std        0.0      2.505602        1873.505813\n",
       "min     2016.0      1.000000           0.010000\n",
       "25%     2016.0      3.000000         120.230000\n",
       "50%     2016.0      5.000000         314.710000\n",
       "75%     2016.0      7.000000         901.390000\n",
       "max     2016.0     10.000000       44500.000000"
      ]
     },
     "execution_count": 50,
     "metadata": {},
     "output_type": "execute_result"
    }
   ],
   "source": [
    "gastos2016.describe()"
   ]
  },
  {
   "cell_type": "markdown",
   "metadata": {},
   "source": [
    "<a name=\"DATAANALYSIS\"></a>\n",
    "<a href='#TOPO'>Voltar ao índice</a>\n",
    "<h1>Análise dos Dados (Data Analysis)</h1>\n",
    "\n",
    "Bom, até o momento realizamos a limpeza em nossos dados para deixá-los melhores para realizar processos de cálculos e plotagem. A partir de agora, vamos realizar alguns <i>Insights</i> a partir das informações contidas nessa planilha.\n",
    "Além de outras perguntas, queremos sanar os seguintes questionamentos:\n",
    "\n",
    "<ol>\n",
    "<li>Qual senador que mais gastou no período?</li>\n",
    "<li>Qual senador que menos gastou neste período?</li>\n",
    "<li>Algum senador estourou a cota do CEAPS?</li>\n",
    "<li>Quais itens mais caros/comprados neste período?</li>\n",
    "<li>Periodos como recessos e grandes eventos, como votação de Impeachment, influenciaram nos gastos públicos?</li>\n",
    "</ol>"
   ]
  },
  {
   "cell_type": "code",
   "execution_count": 51,
   "metadata": {
    "collapsed": false
   },
   "outputs": [
    {
     "data": {
      "text/plain": [
       "array(['ACIR GURGACZ', 'AÉCIO NEVES', 'ALOYSIO NUNES FERREIRA',\n",
       "       'ALVARO DIAS', 'ANA AMÉLIA', 'ÂNGELA PORTELA', 'ANTONIO ANASTASIA',\n",
       "       'ANTÔNIO CARLOS VALADARES', 'ARMANDO MONTEIRO', 'ATAÍDES OLIVEIRA'], dtype=object)"
      ]
     },
     "execution_count": 51,
     "metadata": {},
     "output_type": "execute_result"
    }
   ],
   "source": [
    "#Vamos começar verificando quanto cada parlamentar gastou do período de 01/01/2016 a 25/10/2016\n",
    "gastos_politicos = {} #dicionário que vai armazenar cada político e seu respectivo gasto\n",
    "nomes_politicos = gastos2016['SENADOR'].unique() #Nome de cada senador que aparece no arquivo\n",
    "\n",
    "#Esses são alguns políticos contidos nesse arquivo\n",
    "nomes_politicos[0:10]"
   ]
  },
  {
   "cell_type": "markdown",
   "metadata": {},
   "source": [
    "Já que possuímos agora os nomes dos políticos presentes no arquivo, vamos realizar um laço - <i>looping</i> - para visualizarmos quanto cada um gastou. O <i>loop for</i> abaixo irá criar uma chave no dicionário gastos_politicos - criado acima - e usará como valor desta chave a soma dos gasto do respectivo político. Acompanhe:"
   ]
  },
  {
   "cell_type": "code",
   "execution_count": 52,
   "metadata": {
    "collapsed": false
   },
   "outputs": [],
   "source": [
    "for i in nomes_politicos:\n",
    "    i_nome = gastos2016[gastos2016['SENADOR'] == i] #Série criada somente onde o nome do atual senador aparece\n",
    "    total_de_gastos = i_nome['VALOR_REEMBOLSADO'].sum() #Soma de todas as contas do senador\n",
    "    gastos_politicos[i] = total_de_gastos #Criando chave e valor no dicionário, convertendo os totais para Real\n",
    "    gastos_por_senador = pd.DataFrame.from_dict(gastos_politicos, orient='index') #Criando DataFrame com base no dicionário\n",
    "    gastos_por_senador.columns = ['VALOR_REEMBOLSADO'] #Renomeando a coluna com valores"
   ]
  },
  {
   "cell_type": "code",
   "execution_count": 53,
   "metadata": {
    "collapsed": false
   },
   "outputs": [
    {
     "data": {
      "text/html": [
       "<div>\n",
       "<table border=\"1\" class=\"dataframe\">\n",
       "  <thead>\n",
       "    <tr style=\"text-align: right;\">\n",
       "      <th></th>\n",
       "      <th>VALOR_REEMBOLSADO</th>\n",
       "    </tr>\n",
       "  </thead>\n",
       "  <tbody>\n",
       "    <tr>\n",
       "      <th>VALDIR RAUPP</th>\n",
       "      <td>336454.36</td>\n",
       "    </tr>\n",
       "    <tr>\n",
       "      <th>ALVARO DIAS</th>\n",
       "      <td>108828.71</td>\n",
       "    </tr>\n",
       "    <tr>\n",
       "      <th>FÁTIMA BEZERRA</th>\n",
       "      <td>233622.13</td>\n",
       "    </tr>\n",
       "    <tr>\n",
       "      <th>ANTÔNIO CARLOS VALADARES</th>\n",
       "      <td>161564.10</td>\n",
       "    </tr>\n",
       "    <tr>\n",
       "      <th>LÍDICE DA MATA</th>\n",
       "      <td>192889.21</td>\n",
       "    </tr>\n",
       "  </tbody>\n",
       "</table>\n",
       "</div>"
      ],
      "text/plain": [
       "                          VALOR_REEMBOLSADO\n",
       "VALDIR RAUPP                      336454.36\n",
       "ALVARO DIAS                       108828.71\n",
       "FÁTIMA BEZERRA                    233622.13\n",
       "ANTÔNIO CARLOS VALADARES          161564.10\n",
       "LÍDICE DA MATA                    192889.21"
      ]
     },
     "execution_count": 53,
     "metadata": {},
     "output_type": "execute_result"
    }
   ],
   "source": [
    "#Primeiras linhas do DataFrame criado\n",
    "gastos_por_senador.head()"
   ]
  },
  {
   "cell_type": "markdown",
   "metadata": {},
   "source": [
    "<a name=\"DATAVISUALIZATION\"></a>\n",
    "<a href='#TOPO'>Voltar ao índice</a>\n",
    "<H1>Visualização dos Dados (Data Visualization)</h1>\n",
    "\n",
    "Hora de um dos momentos mais importantes desse projeto: visualizarmos os dados da planilha da CEAPS. Abaixo você irá conferir gráficos para melhor ilustramos as informações que estamos coletando aqui.\n",
    "\n",
    "Inicialmente, vamos criar um gráfico com os 10 políticos que mais tiveram valor reembolsado no período abrangido por este arquivo."
   ]
  },
  {
   "cell_type": "code",
   "execution_count": 54,
   "metadata": {
    "collapsed": false
   },
   "outputs": [
    {
     "data": {
      "image/png": "[encoded data removed]",
      "text/plain": [
       "<matplotlib.figure.Figure at 0xcfef0b8>"
      ]
     },
     "metadata": {},
     "output_type": "display_data"
    }
   ],
   "source": [
    "gastos_por_senador = gastos_por_senador.sort_values('VALOR_REEMBOLSADO',ascending=False) #Ordenando valores do DataFrame\n",
    "gastos_por_senador.head(10).plot(kind='barh', figsize=(10,5), color='green', legend=False, grid=True, alpha=0.7) #Plotting\n",
    "plt.show()"
   ]
  },
  {
   "cell_type": "markdown",
   "metadata": {},
   "source": [
    "Senador Paulo Rocha aparenta ser o político que mais teve valores reembolsados no período abrangido por esse <i>dataset</i>. Vamor conferir seus maiores gastos?"
   ]
  },
  {
   "cell_type": "code",
   "execution_count": 55,
   "metadata": {
    "collapsed": false
   },
   "outputs": [
    {
     "data": {
      "text/plain": [
       "504"
      ]
     },
     "execution_count": 55,
     "metadata": {},
     "output_type": "execute_result"
    }
   ],
   "source": [
    "sen_maior_gasto = gastos2016[gastos2016['SENADOR'] == 'PAULO ROCHA'].reset_index()\n",
    "sen_maior_gasto.shape[0] #quantas linhas tem o arquivo"
   ]
  },
  {
   "cell_type": "markdown",
   "metadata": {},
   "source": [
    "O senador Paulo Rocha tem, segundo o arquivo, 504 registros de contas lançados. Abaixo iremos começar a analisar em quais itens foram realizados os maiores gastos."
   ]
  },
  {
   "cell_type": "code",
   "execution_count": 56,
   "metadata": {
    "collapsed": false
   },
   "outputs": [
    {
     "data": {
      "text/html": [
       "<div>\n",
       "<table border=\"1\" class=\"dataframe\">\n",
       "  <thead>\n",
       "    <tr style=\"text-align: right;\">\n",
       "      <th></th>\n",
       "      <th>index</th>\n",
       "      <th>ANO</th>\n",
       "      <th>MES</th>\n",
       "      <th>SENADOR</th>\n",
       "      <th>TIPO_DESPESA</th>\n",
       "      <th>CNPJ_CPF</th>\n",
       "      <th>FORNECEDOR</th>\n",
       "      <th>DOCUMENTO</th>\n",
       "      <th>DATA</th>\n",
       "      <th>DETALHAMENTO</th>\n",
       "      <th>VALOR_REEMBOLSADO</th>\n",
       "    </tr>\n",
       "  </thead>\n",
       "  <tbody>\n",
       "    <tr>\n",
       "      <th>0</th>\n",
       "      <td>14050</td>\n",
       "      <td>2016.0</td>\n",
       "      <td>1.0</td>\n",
       "      <td>PAULO ROCHA</td>\n",
       "      <td>Aluguel de imóveis para escritório político, c...</td>\n",
       "      <td>04.895.728/0001-80</td>\n",
       "      <td>Centrais Elétricas do Pará S.A</td>\n",
       "      <td>BU592496</td>\n",
       "      <td>12/01/2016</td>\n",
       "      <td>Energia elétrica</td>\n",
       "      <td>1499.56</td>\n",
       "    </tr>\n",
       "    <tr>\n",
       "      <th>1</th>\n",
       "      <td>14051</td>\n",
       "      <td>2016.0</td>\n",
       "      <td>1.0</td>\n",
       "      <td>PAULO ROCHA</td>\n",
       "      <td>Aluguel de imóveis para escritório político, c...</td>\n",
       "      <td>40.432.544/0241-60</td>\n",
       "      <td>EMBRATEL</td>\n",
       "      <td>230644218557</td>\n",
       "      <td>24/01/2016</td>\n",
       "      <td>Telefone fixo</td>\n",
       "      <td>29.90</td>\n",
       "    </tr>\n",
       "    <tr>\n",
       "      <th>2</th>\n",
       "      <td>14052</td>\n",
       "      <td>2016.0</td>\n",
       "      <td>1.0</td>\n",
       "      <td>PAULO ROCHA</td>\n",
       "      <td>Aluguel de imóveis para escritório político, c...</td>\n",
       "      <td>033.249.072-68</td>\n",
       "      <td>MARIZA MACHADO DA SILVA LIMA</td>\n",
       "      <td>01/2016</td>\n",
       "      <td>31/01/2016</td>\n",
       "      <td>Aluguel do imóvel destinado ao escritório de a...</td>\n",
       "      <td>6500.00</td>\n",
       "    </tr>\n",
       "  </tbody>\n",
       "</table>\n",
       "</div>"
      ],
      "text/plain": [
       "   index     ANO  MES      SENADOR  \\\n",
       "0  14050  2016.0  1.0  PAULO ROCHA   \n",
       "1  14051  2016.0  1.0  PAULO ROCHA   \n",
       "2  14052  2016.0  1.0  PAULO ROCHA   \n",
       "\n",
       "                                        TIPO_DESPESA            CNPJ_CPF  \\\n",
       "0  Aluguel de imóveis para escritório político, c...  04.895.728/0001-80   \n",
       "1  Aluguel de imóveis para escritório político, c...  40.432.544/0241-60   \n",
       "2  Aluguel de imóveis para escritório político, c...      033.249.072-68   \n",
       "\n",
       "                       FORNECEDOR     DOCUMENTO        DATA  \\\n",
       "0  Centrais Elétricas do Pará S.A      BU592496  12/01/2016   \n",
       "1                        EMBRATEL  230644218557  24/01/2016   \n",
       "2    MARIZA MACHADO DA SILVA LIMA       01/2016  31/01/2016   \n",
       "\n",
       "                                        DETALHAMENTO  VALOR_REEMBOLSADO  \n",
       "0                                   Energia elétrica            1499.56  \n",
       "1                                      Telefone fixo              29.90  \n",
       "2  Aluguel do imóvel destinado ao escritório de a...            6500.00  "
      ]
     },
     "execution_count": 56,
     "metadata": {},
     "output_type": "execute_result"
    }
   ],
   "source": [
    "#Primeiras linhas do novo DataFrame\n",
    "sen_maior_gasto.head(3)"
   ]
  },
  {
   "cell_type": "markdown",
   "metadata": {},
   "source": [
    "As contas dos senadores são divididas em categorias, o que permite um melhor agrupamento das informações para nossa analise. Os tipos de categorias de contas existente, são:\n",
    "\n",
    "<li>Aluguel de imóveis para escritório político, compreendendo despesas concernentes a eles.</li>\n",
    "<li>Aquisição de material de consumo para uso no escritório político, inclusive aquisição ou locação de software, despesas postais, aquisição de publicações, locação de móveis e de equipamentos.</li>\n",
    "<li>Contratação de consultorias, assessorias, pesquisas, trabalhos técnicos e outros serviços de apoio ao exercício do mandato parlamentar</li>\n",
    "<li>Locomoção, hospedagem, alimentação, combustíveis e lubrificantes</li>\n",
    "<li>Passagens aéreas, aquáticas e terrestres nacionais</li>\n",
    "<li>Divulgação da atividade parlamentar</li>\n",
    "<li>Serviços de Segurança Privada</li>\n",
    "\n",
    "Para facilitar essa e futuras análises de arquivos do CEAPS, criei uma função que pegará o nome de um senador contido no arquivo e retornará um DataFrame com os valores reembolsados agrupados em cada categoria em que ele está inserido."
   ]
  },
  {
   "cell_type": "code",
   "execution_count": 57,
   "metadata": {
    "collapsed": false
   },
   "outputs": [
    {
     "data": {
      "text/html": [
       "<div>\n",
       "<table border=\"1\" class=\"dataframe\">\n",
       "  <thead>\n",
       "    <tr style=\"text-align: right;\">\n",
       "      <th></th>\n",
       "      <th>VALOR_REEMBOLSADO</th>\n",
       "    </tr>\n",
       "    <tr>\n",
       "      <th>TIPO_DESPESA</th>\n",
       "      <th></th>\n",
       "    </tr>\n",
       "  </thead>\n",
       "  <tbody>\n",
       "    <tr>\n",
       "      <th>Locomoção, hospedagem, alimentação, combustíveis e lubrificantes</th>\n",
       "      <td>163746.05</td>\n",
       "    </tr>\n",
       "    <tr>\n",
       "      <th>Passagens aéreas, aquáticas e terrestres nacionais</th>\n",
       "      <td>134569.29</td>\n",
       "    </tr>\n",
       "    <tr>\n",
       "      <th>Aluguel de imóveis para escritório político, compreendendo despesas concernentes a eles.</th>\n",
       "      <td>94228.77</td>\n",
       "    </tr>\n",
       "    <tr>\n",
       "      <th>Contratação de consultorias, assessorias, pesquisas, trabalhos técnicos e outros serviços de apoio ao exercício do mandato parlamentar</th>\n",
       "      <td>5500.00</td>\n",
       "    </tr>\n",
       "    <tr>\n",
       "      <th>Aquisição de material de consumo para uso no escritório político, inclusive aquisição ou locação de software, despesas postais, aquisição de publicações, locação de móveis e de equipamentos.</th>\n",
       "      <td>4340.75</td>\n",
       "    </tr>\n",
       "    <tr>\n",
       "      <th>Divulgação da atividade parlamentar</th>\n",
       "      <td>3500.00</td>\n",
       "    </tr>\n",
       "  </tbody>\n",
       "</table>\n",
       "</div>"
      ],
      "text/plain": [
       "                                                    VALOR_REEMBOLSADO\n",
       "TIPO_DESPESA                                                         \n",
       "Locomoção, hospedagem, alimentação, combustívei...          163746.05\n",
       "Passagens aéreas, aquáticas e terrestres nacionais          134569.29\n",
       "Aluguel de imóveis para escritório político, co...           94228.77\n",
       "Contratação de consultorias, assessorias, pesqu...            5500.00\n",
       "Aquisição de material de consumo para uso no es...            4340.75\n",
       "Divulgação da atividade parlamentar                           3500.00"
      ]
     },
     "execution_count": 57,
     "metadata": {},
     "output_type": "execute_result"
    }
   ],
   "source": [
    "#Vamos criar uma função que retorna um DataFrame com os valores gastos pelo senador\n",
    "def gastos_categoria(senador):\n",
    "    nome_senador = gastos2016[gastos2016['SENADOR'] == senador]\n",
    "    nome_senador = nome_senador.groupby('TIPO_DESPESA')[['SENADOR','VALOR_REEMBOLSADO']].sum()\n",
    "    return nome_senador\n",
    "\n",
    "paulo_rocha_gastos = gastos_categoria('PAULO ROCHA')\n",
    "paulo_rocha_gastos.sort_values(by='VALOR_REEMBOLSADO', ascending = False)"
   ]
  },
  {
   "cell_type": "markdown",
   "metadata": {},
   "source": [
    "Apenas em tópicos como locomoção e hospedagem, o senador Paulo Rocha gastou mais de R\\$ 160 mil. Além disso, foram gastos mais de R\\$ 130 mil em passagens, sejam elas aquáticas ou aéreas. Vamos verificar mais a fundo esses gastos."
   ]
  },
  {
   "cell_type": "code",
   "execution_count": 58,
   "metadata": {
    "collapsed": false
   },
   "outputs": [
    {
     "data": {
      "image/png": "[encoded data removed]",
      "text/plain": [
       "<matplotlib.figure.Figure at 0xaf6af98>"
      ]
     },
     "metadata": {},
     "output_type": "display_data"
    }
   ],
   "source": [
    "#Vamos acompanhar agora a quantidade de gastos do senador no decorrer do ano\n",
    "spr_despesa = sen_maior_gasto[sen_maior_gasto['TIPO_DESPESA'] == 'Locomoção, hospedagem, alimentação, combustíveis e lubrificantes']\n",
    "plot_spr_despesa = spr_despesa.groupby('MES')['VALOR_REEMBOLSADO'].sum()\n",
    "plot_spr_despesa.plot(title='Gastos por mês do senador Paulo Rocha', color='red', figsize=(9,5),grid=True)\n",
    "plt.ylabel('GASTO EM R$')\n",
    "plt.xlabel('MÊS')\n",
    "plt.show()"
   ]
  },
  {
   "cell_type": "markdown",
   "metadata": {},
   "source": [
    "Um fato interessante: o senador Paulo Rocha esteve presente na sessão de julgamento da ex-presidente Dilma Rousseff no dia 29/08/2016. E como podemos ver no gráfico acima, este foi o mês em que ele menos teve despesas gastas até o momento.\n",
    "\n",
    "Será que todos os senadores tiveram poucos gastos nesse período?"
   ]
  },
  {
   "cell_type": "code",
   "execution_count": 59,
   "metadata": {
    "collapsed": false
   },
   "outputs": [],
   "source": [
    "gastos_dos_senadores = gastos2016.groupby('MES')['VALOR_REEMBOLSADO'].sum() #Somando valores reembolsados e divindindo-os por mês\n",
    "gastos_dos_senadores = gastos_dos_senadores.drop(10.0) #Retirando o mês 10, devido não estar completo ainda"
   ]
  },
  {
   "cell_type": "code",
   "execution_count": 60,
   "metadata": {
    "collapsed": false
   },
   "outputs": [
    {
     "data": {
      "image/png": "[encoded data removed]",
      "text/plain": [
       "<matplotlib.figure.Figure at 0xd1bf978>"
      ]
     },
     "metadata": {},
     "output_type": "display_data"
    }
   ],
   "source": [
    "gastos_dos_senadores.plot(figsize=(10,5),color='purple',title='GASTO TOTAL DOS SENADORES',grid=True)\n",
    "plt.ylabel('VALOR EM R$')\n",
    "plt.xlabel('MÊS')\n",
    "plt.show()"
   ]
  },
  {
   "cell_type": "markdown",
   "metadata": {},
   "source": [
    "Pelo visto, foi apenas uma exceção do senador. O meses de Janeiro (1) e Setembro (9) foram os que menos houveram gastos, segundo este <i>dataset</i>. A propósito, percebam os gastos dos meses Julho (7) e Agosto (8). Do dia 18 a 29 de julho houve um recesso no senado,<a href='http://g1.globo.com/hora1/noticia/2016/07/camara-e-senado-entram-em-recesso-e-paralisam-trabalhos-ate-29-de-julho.html'> onde por duas semanas as atividades - como votações - foram interrompidas.</a> Todavia, os gastos que houveram em Julho foram quase os mesmos do período de Agosto, na última fase do processo de julgamento da afastada presidente Dilma Rousseff."
   ]
  },
  {
   "cell_type": "markdown",
   "metadata": {},
   "source": [
    "Bom, se não houveram trabalhos nesse período, com o que será que os senadores gastaram dinheiro? Eu não sei, mas vamos averiguar. O <i>statemente</i> abaixo irá pegar todos os valores reembolsados dentro do período de recesso."
   ]
  },
  {
   "cell_type": "code",
   "execution_count": 61,
   "metadata": {
    "collapsed": false,
    "scrolled": true
   },
   "outputs": [
    {
     "data": {
      "image/png": "[encoded data removed]",
      "text/plain": [
       "<matplotlib.figure.Figure at 0xd1f0630>"
      ]
     },
     "metadata": {},
     "output_type": "display_data"
    }
   ],
   "source": [
    "#Separando apenas valores do mês de Julho\n",
    "gastos_em_julho=gastos2016[gastos2016['DATA'].str.endswith('07/2016')].sort_values('DATA',ascending=True).reset_index(drop=True)\n",
    "\n",
    "#Lista com datas para eliminarmos do DataFrame\n",
    "datas_para_eliminar = ['01/07/2016','02/07/2016','03/07/2016',\n",
    "                       '04/07/2016','05/07/2016','06/07/2016',\n",
    "                       '07/07/2016','08/07/2016','09/07/2016',\n",
    "                       '10/07/2016','11/07/2016','12/07/2016',\n",
    "                       '13/07/2016','14/07/2016','15/07/2016',\n",
    "                       '16/07/2016','17/07/2016','30/07/2016',\n",
    "                       '31/07/2016']\n",
    "#Transformando a coluna DATA no index do DataFrame\n",
    "gastos_em_julho.index = gastos_em_julho['DATA']\n",
    "#Retirando contas que não foram lançadas entre 18/07 e 29/07\n",
    "gastos_em_julho.drop(datas_para_eliminar, axis = 0, inplace = True)\n",
    "#Agrupando os valores por data, somando os valores de cada data e criando um gráfico de barras\n",
    "gastos_em_julho.groupby('DATA')['VALOR_REEMBOLSADO'].sum().plot(kind='bar', figsize=(11,5), title='RECESSO DE JULHO', color='green')\n",
    "plt.ylabel('VALOR GASTO')\n",
    "plt.xticks(rotation='45')\n",
    "plt.show()"
   ]
  },
  {
   "cell_type": "markdown",
   "metadata": {
    "collapsed": true
   },
   "source": [
    "Os dias 25/07/2016 e 29/07/2016 - segunda e terça-feira, respectivamente - possuem os maiores gastos com cerca de R$ 85 mil. Abaixo, você pode conferir quais foram os maiores gastos. "
   ]
  },
  {
   "cell_type": "code",
   "execution_count": 65,
   "metadata": {
    "collapsed": false
   },
   "outputs": [
    {
     "data": {
      "text/html": [
       "<div>\n",
       "<table border=\"1\" class=\"dataframe\">\n",
       "  <thead>\n",
       "    <tr style=\"text-align: right;\">\n",
       "      <th></th>\n",
       "      <th>ANO</th>\n",
       "      <th>MES</th>\n",
       "      <th>SENADOR</th>\n",
       "      <th>TIPO_DESPESA</th>\n",
       "      <th>CNPJ_CPF</th>\n",
       "      <th>FORNECEDOR</th>\n",
       "      <th>DOCUMENTO</th>\n",
       "      <th>DATA</th>\n",
       "      <th>DETALHAMENTO</th>\n",
       "      <th>VALOR_REEMBOLSADO</th>\n",
       "    </tr>\n",
       "    <tr>\n",
       "      <th>DATA</th>\n",
       "      <th></th>\n",
       "      <th></th>\n",
       "      <th></th>\n",
       "      <th></th>\n",
       "      <th></th>\n",
       "      <th></th>\n",
       "      <th></th>\n",
       "      <th></th>\n",
       "      <th></th>\n",
       "      <th></th>\n",
       "    </tr>\n",
       "  </thead>\n",
       "  <tbody>\n",
       "    <tr>\n",
       "      <th>28/07/2016</th>\n",
       "      <td>2016.0</td>\n",
       "      <td>7.0</td>\n",
       "      <td>GLADSON CAMELI</td>\n",
       "      <td>Locomoção, hospedagem, alimentação, combustíve...</td>\n",
       "      <td>07.918.532/0001-51</td>\n",
       "      <td>AEROBRAN TÁXI AÉREO LTDA.</td>\n",
       "      <td>1886</td>\n",
       "      <td>28/07/2016</td>\n",
       "      <td>NaN</td>\n",
       "      <td>15000.0</td>\n",
       "    </tr>\n",
       "    <tr>\n",
       "      <th>29/07/2016</th>\n",
       "      <td>2016.0</td>\n",
       "      <td>7.0</td>\n",
       "      <td>ÂNGELA PORTELA</td>\n",
       "      <td>Contratação de consultorias, assessorias, pesq...</td>\n",
       "      <td>07.880.118/0001-09</td>\n",
       "      <td>SEDNA COMUNICAÇÃO, ARTE E EDUCAÇÃO LTDA ME</td>\n",
       "      <td>179</td>\n",
       "      <td>29/07/2016</td>\n",
       "      <td>NaN</td>\n",
       "      <td>13500.0</td>\n",
       "    </tr>\n",
       "    <tr>\n",
       "      <th>27/07/2016</th>\n",
       "      <td>2016.0</td>\n",
       "      <td>7.0</td>\n",
       "      <td>EDUARDO BRAGA</td>\n",
       "      <td>Divulgação da atividade parlamentar</td>\n",
       "      <td>12.819.071/0001-08</td>\n",
       "      <td>TINGA PRODUÇÕES</td>\n",
       "      <td>94</td>\n",
       "      <td>27/07/2016</td>\n",
       "      <td>NaN</td>\n",
       "      <td>12000.0</td>\n",
       "    </tr>\n",
       "    <tr>\n",
       "      <th>19/07/2016</th>\n",
       "      <td>2016.0</td>\n",
       "      <td>7.0</td>\n",
       "      <td>RICARDO FERRAÇO</td>\n",
       "      <td>Divulgação da atividade parlamentar</td>\n",
       "      <td>07.287.488/0001-29</td>\n",
       "      <td>CRIATIVOS COMUNICAÇÃO E EVENTOS LTDA - ME</td>\n",
       "      <td>46</td>\n",
       "      <td>19/07/2016</td>\n",
       "      <td>O VALOR DE R$ 11.500,00 REFERE-SE A DIVULGAÇÃO...</td>\n",
       "      <td>11500.0</td>\n",
       "    </tr>\n",
       "    <tr>\n",
       "      <th>18/07/2016</th>\n",
       "      <td>2016.0</td>\n",
       "      <td>7.0</td>\n",
       "      <td>AÉCIO NEVES</td>\n",
       "      <td>Aluguel de imóveis para escritório político, c...</td>\n",
       "      <td>18.007.971/0001-29</td>\n",
       "      <td>ASAMAR S A</td>\n",
       "      <td>3623255</td>\n",
       "      <td>18/07/2016</td>\n",
       "      <td>Aluguel referente a julho.</td>\n",
       "      <td>9000.0</td>\n",
       "    </tr>\n",
       "  </tbody>\n",
       "</table>\n",
       "</div>"
      ],
      "text/plain": [
       "               ANO  MES          SENADOR  \\\n",
       "DATA                                       \n",
       "28/07/2016  2016.0  7.0   GLADSON CAMELI   \n",
       "29/07/2016  2016.0  7.0   ÂNGELA PORTELA   \n",
       "27/07/2016  2016.0  7.0    EDUARDO BRAGA   \n",
       "19/07/2016  2016.0  7.0  RICARDO FERRAÇO   \n",
       "18/07/2016  2016.0  7.0      AÉCIO NEVES   \n",
       "\n",
       "                                                 TIPO_DESPESA  \\\n",
       "DATA                                                            \n",
       "28/07/2016  Locomoção, hospedagem, alimentação, combustíve...   \n",
       "29/07/2016  Contratação de consultorias, assessorias, pesq...   \n",
       "27/07/2016                Divulgação da atividade parlamentar   \n",
       "19/07/2016                Divulgação da atividade parlamentar   \n",
       "18/07/2016  Aluguel de imóveis para escritório político, c...   \n",
       "\n",
       "                      CNPJ_CPF                                  FORNECEDOR  \\\n",
       "DATA                                                                         \n",
       "28/07/2016  07.918.532/0001-51                   AEROBRAN TÁXI AÉREO LTDA.   \n",
       "29/07/2016  07.880.118/0001-09  SEDNA COMUNICAÇÃO, ARTE E EDUCAÇÃO LTDA ME   \n",
       "27/07/2016  12.819.071/0001-08                             TINGA PRODUÇÕES   \n",
       "19/07/2016  07.287.488/0001-29   CRIATIVOS COMUNICAÇÃO E EVENTOS LTDA - ME   \n",
       "18/07/2016  18.007.971/0001-29                                  ASAMAR S A   \n",
       "\n",
       "           DOCUMENTO        DATA  \\\n",
       "DATA                               \n",
       "28/07/2016      1886  28/07/2016   \n",
       "29/07/2016       179  29/07/2016   \n",
       "27/07/2016        94  27/07/2016   \n",
       "19/07/2016        46  19/07/2016   \n",
       "18/07/2016   3623255  18/07/2016   \n",
       "\n",
       "                                                 DETALHAMENTO  \\\n",
       "DATA                                                            \n",
       "28/07/2016                                                NaN   \n",
       "29/07/2016                                                NaN   \n",
       "27/07/2016                                                NaN   \n",
       "19/07/2016  O VALOR DE R$ 11.500,00 REFERE-SE A DIVULGAÇÃO...   \n",
       "18/07/2016                         Aluguel referente a julho.   \n",
       "\n",
       "            VALOR_REEMBOLSADO  \n",
       "DATA                           \n",
       "28/07/2016            15000.0  \n",
       "29/07/2016            13500.0  \n",
       "27/07/2016            12000.0  \n",
       "19/07/2016            11500.0  \n",
       "18/07/2016             9000.0  "
      ]
     },
     "execution_count": 65,
     "metadata": {},
     "output_type": "execute_result"
    }
   ],
   "source": [
    "gastos_em_julho = gastos_em_julho.sort_values('VALOR_REEMBOLSADO', ascending = False)\n",
    "gastos_em_julho.head()"
   ]
  },
  {
   "cell_type": "markdown",
   "metadata": {},
   "source": [
    "Para melhor visualização, vamos criar um diagrama de caixas - do inglês <i>boxplot</i> - para sabermos a variação dos gastos dos senadores durante o recesso."
   ]
  },
  {
   "cell_type": "code",
   "execution_count": 63,
   "metadata": {
    "collapsed": false
   },
   "outputs": [
    {
     "data": {
      "image/png": "[encoded data removed]",
      "text/plain": [
       "<matplotlib.figure.Figure at 0xc843710>"
      ]
     },
     "metadata": {},
     "output_type": "display_data"
    }
   ],
   "source": [
    "gastos_em_julho.boxplot(by='SENADOR', column='VALOR_REEMBOLSADO', rot=90, figsize=(16,7), sym='k. ')\n",
    "plt.title('GASTOS DOS SENADORES NO RECESSO')\n",
    "plt.ylabel('VALOR EM R$')\n",
    "plt.show()"
   ]
  },
  {
   "cell_type": "markdown",
   "metadata": {},
   "source": [
    "Espero que você esteja familiarizado com gráficos de caixa e outros termos sobre estatística que irei comentar. Alguns senadores como Elmano Férrer, Randolfe Rodrigues, Otto Alencar e Roberto Muniz possuem alguns <i>Outliers</i>, ou seja, valores aberrantes que distorcem e fogem da média. Em nosso gráfico, eles são representados pontos abaixo e acima das caixas. Isso quer dizer que ali há algum valor que foge da série de dados encontrados para cada senador.\n",
    "\n",
    "Como pode ser visto no Dataframe anteriormente, tais <i>Outliers</i> são devidos a contas com valores altos, que fogem do padrão do senador, como o aluguel de um Táxi Aéreo para o senador Gladson Cameli (do Acre), da consultoria da empresa Sedna Comunicação para a senadora Ângela Portela (Ceará)."
   ]
  },
  {
   "cell_type": "markdown",
   "metadata": {},
   "source": [
    "<a name='CONCLUSAO'></a>\n",
    "<a href='#TOPO'>Voltar ao índice</a>\n",
    "<h1>Conclusão</h1>\n",
    "\n",
    "Espero ter atingido a proposta deste estudo através dos meus métodos e explicações realizados aqui. Meu principal objetivo é denotar que qualquer cidadão tem poder - e dever - de fiscalizar e realizar questionamentos sobre o que tem feito os senadores que representam nossos estados, tudo isso utilizando técnicas de programação e dados abertos disponibilizados a todos.\n",
    "\n",
    "Caso tenha interesse, você pode me seguir nas redes sociais, <a href='https://medium.com/paulo-henrique-vasconcellos'>além de visitar meu site oficial</a> e enviar críticas e sugestões. Espero que tenham apreciado este trabalho tanto quanto eu. Obrigado.\n",
    "\n",
    "<img src = './imgs/linkedin.png' width=32 align=left><a href='https://br.linkedin.com/in/paulovasconcellos'>Paulo Henrique Vasconcellos</a><p>\n",
    "<img src = './imgs/twitter.png' width=34 align=left><a href='https://twitter.com/paulo_zip'>paulo_zip</a><p>\n"
   ]
  },
  {
   "cell_type": "code",
   "execution_count": null,
   "metadata": {
    "collapsed": true
   },
   "outputs": [],
   "source": []
  }
 ],
 "metadata": {
  "anaconda-cloud": {},
  "kernelspec": {
   "display_name": "Python [Root]",
   "language": "python",
   "name": "Python [Root]"
  },
  "language_info": {
   "codemirror_mode": {
    "name": "ipython",
    "version": 3
   },
   "file_extension": ".py",
   "mimetype": "text/x-python",
   "name": "python",
   "nbconvert_exporter": "python",
   "pygments_lexer": "ipython3",
   "version": "3.5.2"
  }
 },
 "nbformat": 4,
 "nbformat_minor": 1
}
